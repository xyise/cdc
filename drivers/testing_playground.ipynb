{
 "cells": [
  {
   "cell_type": "markdown",
   "metadata": {},
   "source": [
    "# PLAYGROUND\n",
    "\n",
    "unorganised cells\n",
    "this is my scrap book as writing codes into py... "
   ]
  },
  {
   "cell_type": "code",
   "execution_count": 8,
   "metadata": {},
   "outputs": [
    {
     "name": "stdout",
     "output_type": "stream",
     "text": [
      "The autoreload extension is already loaded. To reload it, use:\n",
      "  %reload_ext autoreload\n"
     ]
    }
   ],
   "source": [
    "import os, sys\n",
    "from datetime import datetime\n",
    "from zoneinfo import ZoneInfo\n",
    "import time\n",
    "\n",
    "# cdc root is included through .env\n",
    "\n",
    "from xcrytoz import FileZipDaoReader, FilePathMappingDB\n",
    "from xcrytoz.common_utils import Converter\n",
    "\n",
    "%load_ext autoreload\n",
    "%autoreload 2"
   ]
  },
  {
   "cell_type": "code",
   "execution_count": 9,
   "metadata": {},
   "outputs": [],
   "source": [
    "root_save_folder = r'/home/youngsuklee/data/deribit_test'"
   ]
  },
  {
   "cell_type": "code",
   "execution_count": 10,
   "metadata": {},
   "outputs": [],
   "source": [
    "dbm = FilePathMappingDB(root_save_folder)"
   ]
  },
  {
   "cell_type": "code",
   "execution_count": 11,
   "metadata": {},
   "outputs": [
    {
     "name": "stderr",
     "output_type": "stream",
     "text": [
      "xcrytoz.deribit_data.file_io_utils - INFO - executed successfully: DROP TABLE timestamp2filepath\n"
     ]
    }
   ],
   "source": [
    "dbm.drop_mapping_table()"
   ]
  },
  {
   "cell_type": "code",
   "execution_count": 12,
   "metadata": {},
   "outputs": [
    {
     "name": "stderr",
     "output_type": "stream",
     "text": [
      "xcrytoz.deribit_data.file_io_utils - INFO - executed successfully: SELECT name FROM sqlite_master WHERE type=\"table\" AND name=\"timestamp2filepath\";\n",
      "xcrytoz.deribit_data.file_io_utils - INFO - executed successfully: CREATE TABLE IF NOT EXISTS \"timestamp2filepath\" (\n",
      "timestamp_ms INT,datetime TEXT,\n",
      "currency TEXT,\n",
      "kind TEXT,\n",
      "path TEXT\n",
      ");\n",
      "xcrytoz.deribit_data.file_io_utils - INFO - executed successfully: CREATE INDEX IF NOT EXISTS \"ftimestamp_ms_index\" ON \"timestamp2filepath\" (\n",
      "\"timestamp_ms\"\n",
      ");\n"
     ]
    }
   ],
   "source": [
    "dbm.create_mapping_table()"
   ]
  },
  {
   "cell_type": "code",
   "execution_count": 13,
   "metadata": {},
   "outputs": [
    {
     "name": "stderr",
     "output_type": "stream",
     "text": [
      "xcrytoz.deribit_data.file_io_utils - INFO - executed successfully: INSERT INTO\n",
      "   timestamp2filepath (timestamp_ms, datetime, currency, kind, path)\n",
      "VALUES\n",
      "  (1661975464218, \"20220831205104\", \"BTC\", \"option\", \"xage1000\");\n",
      "xcrytoz.deribit_data.file_io_utils - INFO - executed successfully: INSERT INTO\n",
      "   timestamp2filepath (timestamp_ms, datetime, currency, kind, path)\n",
      "VALUES\n",
      "  (1661975464233, \"20220831205104\", \"BTC\", \"option\", \"xage1001\");\n",
      "xcrytoz.deribit_data.file_io_utils - INFO - executed successfully: INSERT INTO\n",
      "   timestamp2filepath (timestamp_ms, datetime, currency, kind, path)\n",
      "VALUES\n",
      "  (1661975464247, \"20220831205104\", \"BTC\", \"option\", \"xage1002\");\n",
      "xcrytoz.deribit_data.file_io_utils - INFO - executed successfully: INSERT INTO\n",
      "   timestamp2filepath (timestamp_ms, datetime, currency, kind, path)\n",
      "VALUES\n",
      "  (1661975464265, \"20220831205104\", \"BTC\", \"option\", \"xage1003\");\n",
      "xcrytoz.deribit_data.file_io_utils - INFO - executed successfully: INSERT INTO\n",
      "   timestamp2filepath (timestamp_ms, datetime, currency, kind, path)\n",
      "VALUES\n",
      "  (1661975464279, \"20220831205104\", \"BTC\", \"option\", \"xage1004\");\n",
      "xcrytoz.deribit_data.file_io_utils - INFO - executed successfully: INSERT INTO\n",
      "   timestamp2filepath (timestamp_ms, datetime, currency, kind, path)\n",
      "VALUES\n",
      "  (1661975464293, \"20220831205104\", \"BTC\", \"option\", \"xage1005\");\n",
      "xcrytoz.deribit_data.file_io_utils - INFO - executed successfully: INSERT INTO\n",
      "   timestamp2filepath (timestamp_ms, datetime, currency, kind, path)\n",
      "VALUES\n",
      "  (1661975464308, \"20220831205104\", \"BTC\", \"option\", \"xage1006\");\n",
      "xcrytoz.deribit_data.file_io_utils - INFO - executed successfully: INSERT INTO\n",
      "   timestamp2filepath (timestamp_ms, datetime, currency, kind, path)\n",
      "VALUES\n",
      "  (1661975464322, \"20220831205104\", \"BTC\", \"option\", \"xage1007\");\n",
      "xcrytoz.deribit_data.file_io_utils - INFO - executed successfully: INSERT INTO\n",
      "   timestamp2filepath (timestamp_ms, datetime, currency, kind, path)\n",
      "VALUES\n",
      "  (1661975464336, \"20220831205104\", \"BTC\", \"option\", \"xage1008\");\n",
      "xcrytoz.deribit_data.file_io_utils - INFO - executed successfully: INSERT INTO\n",
      "   timestamp2filepath (timestamp_ms, datetime, currency, kind, path)\n",
      "VALUES\n",
      "  (1661975464350, \"20220831205104\", \"BTC\", \"option\", \"xage1009\");\n",
      "xcrytoz.deribit_data.file_io_utils - INFO - executed successfully: INSERT INTO\n",
      "   timestamp2filepath (timestamp_ms, datetime, currency, kind, path)\n",
      "VALUES\n",
      "  (1661975464365, \"20220831205104\", \"BTC\", \"option\", \"xage1010\");\n",
      "xcrytoz.deribit_data.file_io_utils - INFO - executed successfully: INSERT INTO\n",
      "   timestamp2filepath (timestamp_ms, datetime, currency, kind, path)\n",
      "VALUES\n",
      "  (1661975464380, \"20220831205104\", \"BTC\", \"option\", \"xage1011\");\n",
      "xcrytoz.deribit_data.file_io_utils - INFO - executed successfully: INSERT INTO\n",
      "   timestamp2filepath (timestamp_ms, datetime, currency, kind, path)\n",
      "VALUES\n",
      "  (1661975464394, \"20220831205104\", \"BTC\", \"option\", \"xage1012\");\n",
      "xcrytoz.deribit_data.file_io_utils - INFO - executed successfully: INSERT INTO\n",
      "   timestamp2filepath (timestamp_ms, datetime, currency, kind, path)\n",
      "VALUES\n",
      "  (1661975464409, \"20220831205104\", \"BTC\", \"option\", \"xage1013\");\n",
      "xcrytoz.deribit_data.file_io_utils - INFO - executed successfully: INSERT INTO\n",
      "   timestamp2filepath (timestamp_ms, datetime, currency, kind, path)\n",
      "VALUES\n",
      "  (1661975464423, \"20220831205104\", \"BTC\", \"option\", \"xage1014\");\n",
      "xcrytoz.deribit_data.file_io_utils - INFO - executed successfully: INSERT INTO\n",
      "   timestamp2filepath (timestamp_ms, datetime, currency, kind, path)\n",
      "VALUES\n",
      "  (1661975464437, \"20220831205104\", \"BTC\", \"option\", \"xage1015\");\n",
      "xcrytoz.deribit_data.file_io_utils - INFO - executed successfully: INSERT INTO\n",
      "   timestamp2filepath (timestamp_ms, datetime, currency, kind, path)\n",
      "VALUES\n",
      "  (1661975464452, \"20220831205104\", \"BTC\", \"option\", \"xage1016\");\n",
      "xcrytoz.deribit_data.file_io_utils - INFO - executed successfully: INSERT INTO\n",
      "   timestamp2filepath (timestamp_ms, datetime, currency, kind, path)\n",
      "VALUES\n",
      "  (1661975464467, \"20220831205104\", \"BTC\", \"option\", \"xage1017\");\n",
      "xcrytoz.deribit_data.file_io_utils - INFO - executed successfully: INSERT INTO\n",
      "   timestamp2filepath (timestamp_ms, datetime, currency, kind, path)\n",
      "VALUES\n",
      "  (1661975464481, \"20220831205104\", \"BTC\", \"option\", \"xage1018\");\n",
      "xcrytoz.deribit_data.file_io_utils - INFO - executed successfully: INSERT INTO\n",
      "   timestamp2filepath (timestamp_ms, datetime, currency, kind, path)\n",
      "VALUES\n",
      "  (1661975464495, \"20220831205104\", \"BTC\", \"option\", \"xage1019\");\n",
      "xcrytoz.deribit_data.file_io_utils - INFO - executed successfully: INSERT INTO\n",
      "   timestamp2filepath (timestamp_ms, datetime, currency, kind, path)\n",
      "VALUES\n",
      "  (1661975464510, \"20220831205104\", \"BTC\", \"option\", \"xage1020\");\n",
      "xcrytoz.deribit_data.file_io_utils - INFO - executed successfully: INSERT INTO\n",
      "   timestamp2filepath (timestamp_ms, datetime, currency, kind, path)\n",
      "VALUES\n",
      "  (1661975464524, \"20220831205104\", \"BTC\", \"option\", \"xage1021\");\n",
      "xcrytoz.deribit_data.file_io_utils - INFO - executed successfully: INSERT INTO\n",
      "   timestamp2filepath (timestamp_ms, datetime, currency, kind, path)\n",
      "VALUES\n",
      "  (1661975464539, \"20220831205104\", \"BTC\", \"option\", \"xage1022\");\n",
      "xcrytoz.deribit_data.file_io_utils - INFO - executed successfully: INSERT INTO\n",
      "   timestamp2filepath (timestamp_ms, datetime, currency, kind, path)\n",
      "VALUES\n",
      "  (1661975464554, \"20220831205104\", \"BTC\", \"option\", \"xage1023\");\n",
      "xcrytoz.deribit_data.file_io_utils - INFO - executed successfully: INSERT INTO\n",
      "   timestamp2filepath (timestamp_ms, datetime, currency, kind, path)\n",
      "VALUES\n",
      "  (1661975464570, \"20220831205104\", \"BTC\", \"option\", \"xage1024\");\n",
      "xcrytoz.deribit_data.file_io_utils - INFO - executed successfully: INSERT INTO\n",
      "   timestamp2filepath (timestamp_ms, datetime, currency, kind, path)\n",
      "VALUES\n",
      "  (1661975464584, \"20220831205104\", \"BTC\", \"option\", \"xage1025\");\n",
      "xcrytoz.deribit_data.file_io_utils - INFO - executed successfully: INSERT INTO\n",
      "   timestamp2filepath (timestamp_ms, datetime, currency, kind, path)\n",
      "VALUES\n",
      "  (1661975464600, \"20220831205104\", \"BTC\", \"option\", \"xage1026\");\n",
      "xcrytoz.deribit_data.file_io_utils - INFO - executed successfully: INSERT INTO\n",
      "   timestamp2filepath (timestamp_ms, datetime, currency, kind, path)\n",
      "VALUES\n",
      "  (1661975464614, \"20220831205104\", \"BTC\", \"option\", \"xage1027\");\n",
      "xcrytoz.deribit_data.file_io_utils - INFO - executed successfully: INSERT INTO\n",
      "   timestamp2filepath (timestamp_ms, datetime, currency, kind, path)\n",
      "VALUES\n",
      "  (1661975464629, \"20220831205104\", \"BTC\", \"option\", \"xage1028\");\n",
      "xcrytoz.deribit_data.file_io_utils - INFO - executed successfully: INSERT INTO\n",
      "   timestamp2filepath (timestamp_ms, datetime, currency, kind, path)\n",
      "VALUES\n",
      "  (1661975464645, \"20220831205104\", \"BTC\", \"option\", \"xage1029\");\n",
      "xcrytoz.deribit_data.file_io_utils - INFO - executed successfully: INSERT INTO\n",
      "   timestamp2filepath (timestamp_ms, datetime, currency, kind, path)\n",
      "VALUES\n",
      "  (1661975464660, \"20220831205104\", \"BTC\", \"option\", \"xage1030\");\n",
      "xcrytoz.deribit_data.file_io_utils - INFO - executed successfully: INSERT INTO\n",
      "   timestamp2filepath (timestamp_ms, datetime, currency, kind, path)\n",
      "VALUES\n",
      "  (1661975464677, \"20220831205104\", \"BTC\", \"option\", \"xage1031\");\n",
      "xcrytoz.deribit_data.file_io_utils - INFO - executed successfully: INSERT INTO\n",
      "   timestamp2filepath (timestamp_ms, datetime, currency, kind, path)\n",
      "VALUES\n",
      "  (1661975464693, \"20220831205104\", \"BTC\", \"option\", \"xage1032\");\n",
      "xcrytoz.deribit_data.file_io_utils - INFO - executed successfully: INSERT INTO\n",
      "   timestamp2filepath (timestamp_ms, datetime, currency, kind, path)\n",
      "VALUES\n",
      "  (1661975464709, \"20220831205104\", \"BTC\", \"option\", \"xage1033\");\n",
      "xcrytoz.deribit_data.file_io_utils - INFO - executed successfully: INSERT INTO\n",
      "   timestamp2filepath (timestamp_ms, datetime, currency, kind, path)\n",
      "VALUES\n",
      "  (1661975464724, \"20220831205104\", \"BTC\", \"option\", \"xage1034\");\n",
      "xcrytoz.deribit_data.file_io_utils - INFO - executed successfully: INSERT INTO\n",
      "   timestamp2filepath (timestamp_ms, datetime, currency, kind, path)\n",
      "VALUES\n",
      "  (1661975464740, \"20220831205104\", \"BTC\", \"option\", \"xage1035\");\n",
      "xcrytoz.deribit_data.file_io_utils - INFO - executed successfully: INSERT INTO\n",
      "   timestamp2filepath (timestamp_ms, datetime, currency, kind, path)\n",
      "VALUES\n",
      "  (1661975464756, \"20220831205104\", \"BTC\", \"option\", \"xage1036\");\n",
      "xcrytoz.deribit_data.file_io_utils - INFO - executed successfully: INSERT INTO\n",
      "   timestamp2filepath (timestamp_ms, datetime, currency, kind, path)\n",
      "VALUES\n",
      "  (1661975464770, \"20220831205104\", \"BTC\", \"option\", \"xage1037\");\n",
      "xcrytoz.deribit_data.file_io_utils - INFO - executed successfully: INSERT INTO\n",
      "   timestamp2filepath (timestamp_ms, datetime, currency, kind, path)\n",
      "VALUES\n",
      "  (1661975464786, \"20220831205104\", \"BTC\", \"option\", \"xage1038\");\n",
      "xcrytoz.deribit_data.file_io_utils - INFO - executed successfully: INSERT INTO\n",
      "   timestamp2filepath (timestamp_ms, datetime, currency, kind, path)\n",
      "VALUES\n",
      "  (1661975464804, \"20220831205104\", \"BTC\", \"option\", \"xage1039\");\n",
      "xcrytoz.deribit_data.file_io_utils - INFO - executed successfully: INSERT INTO\n",
      "   timestamp2filepath (timestamp_ms, datetime, currency, kind, path)\n",
      "VALUES\n",
      "  (1661975464819, \"20220831205104\", \"BTC\", \"option\", \"xage1040\");\n",
      "xcrytoz.deribit_data.file_io_utils - INFO - executed successfully: INSERT INTO\n",
      "   timestamp2filepath (timestamp_ms, datetime, currency, kind, path)\n",
      "VALUES\n",
      "  (1661975464834, \"20220831205104\", \"BTC\", \"option\", \"xage1041\");\n",
      "xcrytoz.deribit_data.file_io_utils - INFO - executed successfully: INSERT INTO\n",
      "   timestamp2filepath (timestamp_ms, datetime, currency, kind, path)\n",
      "VALUES\n",
      "  (1661975464849, \"20220831205104\", \"BTC\", \"option\", \"xage1042\");\n",
      "xcrytoz.deribit_data.file_io_utils - INFO - executed successfully: INSERT INTO\n",
      "   timestamp2filepath (timestamp_ms, datetime, currency, kind, path)\n",
      "VALUES\n",
      "  (1661975464863, \"20220831205104\", \"BTC\", \"option\", \"xage1043\");\n",
      "xcrytoz.deribit_data.file_io_utils - INFO - executed successfully: INSERT INTO\n",
      "   timestamp2filepath (timestamp_ms, datetime, currency, kind, path)\n",
      "VALUES\n",
      "  (1661975464878, \"20220831205104\", \"BTC\", \"option\", \"xage1044\");\n",
      "xcrytoz.deribit_data.file_io_utils - INFO - executed successfully: INSERT INTO\n",
      "   timestamp2filepath (timestamp_ms, datetime, currency, kind, path)\n",
      "VALUES\n",
      "  (1661975464892, \"20220831205104\", \"BTC\", \"option\", \"xage1045\");\n",
      "xcrytoz.deribit_data.file_io_utils - INFO - executed successfully: INSERT INTO\n",
      "   timestamp2filepath (timestamp_ms, datetime, currency, kind, path)\n",
      "VALUES\n",
      "  (1661975464906, \"20220831205104\", \"BTC\", \"option\", \"xage1046\");\n",
      "xcrytoz.deribit_data.file_io_utils - INFO - executed successfully: INSERT INTO\n",
      "   timestamp2filepath (timestamp_ms, datetime, currency, kind, path)\n",
      "VALUES\n",
      "  (1661975464921, \"20220831205104\", \"BTC\", \"option\", \"xage1047\");\n",
      "xcrytoz.deribit_data.file_io_utils - INFO - executed successfully: INSERT INTO\n",
      "   timestamp2filepath (timestamp_ms, datetime, currency, kind, path)\n",
      "VALUES\n",
      "  (1661975464936, \"20220831205104\", \"BTC\", \"option\", \"xage1048\");\n",
      "xcrytoz.deribit_data.file_io_utils - INFO - executed successfully: INSERT INTO\n",
      "   timestamp2filepath (timestamp_ms, datetime, currency, kind, path)\n",
      "VALUES\n",
      "  (1661975464950, \"20220831205104\", \"BTC\", \"option\", \"xage1049\");\n",
      "xcrytoz.deribit_data.file_io_utils - INFO - executed successfully: INSERT INTO\n",
      "   timestamp2filepath (timestamp_ms, datetime, currency, kind, path)\n",
      "VALUES\n",
      "  (1661975464965, \"20220831205104\", \"BTC\", \"option\", \"xage1050\");\n",
      "xcrytoz.deribit_data.file_io_utils - INFO - executed successfully: INSERT INTO\n",
      "   timestamp2filepath (timestamp_ms, datetime, currency, kind, path)\n",
      "VALUES\n",
      "  (1661975464979, \"20220831205104\", \"BTC\", \"option\", \"xage1051\");\n",
      "xcrytoz.deribit_data.file_io_utils - INFO - executed successfully: INSERT INTO\n",
      "   timestamp2filepath (timestamp_ms, datetime, currency, kind, path)\n",
      "VALUES\n",
      "  (1661975464994, \"20220831205104\", \"BTC\", \"option\", \"xage1052\");\n",
      "xcrytoz.deribit_data.file_io_utils - INFO - executed successfully: INSERT INTO\n",
      "   timestamp2filepath (timestamp_ms, datetime, currency, kind, path)\n",
      "VALUES\n",
      "  (1661975465011, \"20220831205105\", \"BTC\", \"option\", \"xage1053\");\n",
      "xcrytoz.deribit_data.file_io_utils - INFO - executed successfully: INSERT INTO\n",
      "   timestamp2filepath (timestamp_ms, datetime, currency, kind, path)\n",
      "VALUES\n",
      "  (1661975465026, \"20220831205105\", \"BTC\", \"option\", \"xage1054\");\n",
      "xcrytoz.deribit_data.file_io_utils - INFO - executed successfully: INSERT INTO\n",
      "   timestamp2filepath (timestamp_ms, datetime, currency, kind, path)\n",
      "VALUES\n",
      "  (1661975465041, \"20220831205105\", \"BTC\", \"option\", \"xage1055\");\n",
      "xcrytoz.deribit_data.file_io_utils - INFO - executed successfully: INSERT INTO\n",
      "   timestamp2filepath (timestamp_ms, datetime, currency, kind, path)\n",
      "VALUES\n",
      "  (1661975465055, \"20220831205105\", \"BTC\", \"option\", \"xage1056\");\n",
      "xcrytoz.deribit_data.file_io_utils - INFO - executed successfully: INSERT INTO\n",
      "   timestamp2filepath (timestamp_ms, datetime, currency, kind, path)\n",
      "VALUES\n",
      "  (1661975465070, \"20220831205105\", \"BTC\", \"option\", \"xage1057\");\n",
      "xcrytoz.deribit_data.file_io_utils - INFO - executed successfully: INSERT INTO\n",
      "   timestamp2filepath (timestamp_ms, datetime, currency, kind, path)\n",
      "VALUES\n",
      "  (1661975465084, \"20220831205105\", \"BTC\", \"option\", \"xage1058\");\n",
      "xcrytoz.deribit_data.file_io_utils - INFO - executed successfully: INSERT INTO\n",
      "   timestamp2filepath (timestamp_ms, datetime, currency, kind, path)\n",
      "VALUES\n",
      "  (1661975465099, \"20220831205105\", \"BTC\", \"option\", \"xage1059\");\n",
      "xcrytoz.deribit_data.file_io_utils - INFO - executed successfully: INSERT INTO\n",
      "   timestamp2filepath (timestamp_ms, datetime, currency, kind, path)\n",
      "VALUES\n",
      "  (1661975465113, \"20220831205105\", \"BTC\", \"option\", \"xage1060\");\n",
      "xcrytoz.deribit_data.file_io_utils - INFO - executed successfully: INSERT INTO\n",
      "   timestamp2filepath (timestamp_ms, datetime, currency, kind, path)\n",
      "VALUES\n",
      "  (1661975465127, \"20220831205105\", \"BTC\", \"option\", \"xage1061\");\n",
      "xcrytoz.deribit_data.file_io_utils - INFO - executed successfully: INSERT INTO\n",
      "   timestamp2filepath (timestamp_ms, datetime, currency, kind, path)\n",
      "VALUES\n",
      "  (1661975465142, \"20220831205105\", \"BTC\", \"option\", \"xage1062\");\n",
      "xcrytoz.deribit_data.file_io_utils - INFO - executed successfully: INSERT INTO\n",
      "   timestamp2filepath (timestamp_ms, datetime, currency, kind, path)\n",
      "VALUES\n",
      "  (1661975465157, \"20220831205105\", \"BTC\", \"option\", \"xage1063\");\n",
      "xcrytoz.deribit_data.file_io_utils - INFO - executed successfully: INSERT INTO\n",
      "   timestamp2filepath (timestamp_ms, datetime, currency, kind, path)\n",
      "VALUES\n",
      "  (1661975465172, \"20220831205105\", \"BTC\", \"option\", \"xage1064\");\n",
      "xcrytoz.deribit_data.file_io_utils - INFO - executed successfully: INSERT INTO\n",
      "   timestamp2filepath (timestamp_ms, datetime, currency, kind, path)\n",
      "VALUES\n",
      "  (1661975465187, \"20220831205105\", \"BTC\", \"option\", \"xage1065\");\n",
      "xcrytoz.deribit_data.file_io_utils - INFO - executed successfully: INSERT INTO\n",
      "   timestamp2filepath (timestamp_ms, datetime, currency, kind, path)\n",
      "VALUES\n",
      "  (1661975465204, \"20220831205105\", \"BTC\", \"option\", \"xage1066\");\n",
      "xcrytoz.deribit_data.file_io_utils - INFO - executed successfully: INSERT INTO\n",
      "   timestamp2filepath (timestamp_ms, datetime, currency, kind, path)\n",
      "VALUES\n",
      "  (1661975465219, \"20220831205105\", \"BTC\", \"option\", \"xage1067\");\n",
      "xcrytoz.deribit_data.file_io_utils - INFO - executed successfully: INSERT INTO\n",
      "   timestamp2filepath (timestamp_ms, datetime, currency, kind, path)\n",
      "VALUES\n",
      "  (1661975465233, \"20220831205105\", \"BTC\", \"option\", \"xage1068\");\n",
      "xcrytoz.deribit_data.file_io_utils - INFO - executed successfully: INSERT INTO\n",
      "   timestamp2filepath (timestamp_ms, datetime, currency, kind, path)\n",
      "VALUES\n",
      "  (1661975465248, \"20220831205105\", \"BTC\", \"option\", \"xage1069\");\n",
      "xcrytoz.deribit_data.file_io_utils - INFO - executed successfully: INSERT INTO\n",
      "   timestamp2filepath (timestamp_ms, datetime, currency, kind, path)\n",
      "VALUES\n",
      "  (1661975465262, \"20220831205105\", \"BTC\", \"option\", \"xage1070\");\n",
      "xcrytoz.deribit_data.file_io_utils - INFO - executed successfully: INSERT INTO\n",
      "   timestamp2filepath (timestamp_ms, datetime, currency, kind, path)\n",
      "VALUES\n",
      "  (1661975465277, \"20220831205105\", \"BTC\", \"option\", \"xage1071\");\n",
      "xcrytoz.deribit_data.file_io_utils - INFO - executed successfully: INSERT INTO\n",
      "   timestamp2filepath (timestamp_ms, datetime, currency, kind, path)\n",
      "VALUES\n",
      "  (1661975465291, \"20220831205105\", \"BTC\", \"option\", \"xage1072\");\n",
      "xcrytoz.deribit_data.file_io_utils - INFO - executed successfully: INSERT INTO\n",
      "   timestamp2filepath (timestamp_ms, datetime, currency, kind, path)\n",
      "VALUES\n",
      "  (1661975465306, \"20220831205105\", \"BTC\", \"option\", \"xage1073\");\n",
      "xcrytoz.deribit_data.file_io_utils - INFO - executed successfully: INSERT INTO\n",
      "   timestamp2filepath (timestamp_ms, datetime, currency, kind, path)\n",
      "VALUES\n",
      "  (1661975465320, \"20220831205105\", \"BTC\", \"option\", \"xage1074\");\n",
      "xcrytoz.deribit_data.file_io_utils - INFO - executed successfully: INSERT INTO\n",
      "   timestamp2filepath (timestamp_ms, datetime, currency, kind, path)\n",
      "VALUES\n",
      "  (1661975465335, \"20220831205105\", \"BTC\", \"option\", \"xage1075\");\n",
      "xcrytoz.deribit_data.file_io_utils - INFO - executed successfully: INSERT INTO\n",
      "   timestamp2filepath (timestamp_ms, datetime, currency, kind, path)\n",
      "VALUES\n",
      "  (1661975465350, \"20220831205105\", \"BTC\", \"option\", \"xage1076\");\n",
      "xcrytoz.deribit_data.file_io_utils - INFO - executed successfully: INSERT INTO\n",
      "   timestamp2filepath (timestamp_ms, datetime, currency, kind, path)\n",
      "VALUES\n",
      "  (1661975465365, \"20220831205105\", \"BTC\", \"option\", \"xage1077\");\n",
      "xcrytoz.deribit_data.file_io_utils - INFO - executed successfully: INSERT INTO\n",
      "   timestamp2filepath (timestamp_ms, datetime, currency, kind, path)\n",
      "VALUES\n",
      "  (1661975465380, \"20220831205105\", \"BTC\", \"option\", \"xage1078\");\n",
      "xcrytoz.deribit_data.file_io_utils - INFO - executed successfully: INSERT INTO\n",
      "   timestamp2filepath (timestamp_ms, datetime, currency, kind, path)\n",
      "VALUES\n",
      "  (1661975465396, \"20220831205105\", \"BTC\", \"option\", \"xage1079\");\n",
      "xcrytoz.deribit_data.file_io_utils - INFO - executed successfully: INSERT INTO\n",
      "   timestamp2filepath (timestamp_ms, datetime, currency, kind, path)\n",
      "VALUES\n",
      "  (1661975465410, \"20220831205105\", \"BTC\", \"option\", \"xage1080\");\n",
      "xcrytoz.deribit_data.file_io_utils - INFO - executed successfully: INSERT INTO\n",
      "   timestamp2filepath (timestamp_ms, datetime, currency, kind, path)\n",
      "VALUES\n",
      "  (1661975465424, \"20220831205105\", \"BTC\", \"option\", \"xage1081\");\n",
      "xcrytoz.deribit_data.file_io_utils - INFO - executed successfully: INSERT INTO\n",
      "   timestamp2filepath (timestamp_ms, datetime, currency, kind, path)\n",
      "VALUES\n",
      "  (1661975465439, \"20220831205105\", \"BTC\", \"option\", \"xage1082\");\n",
      "xcrytoz.deribit_data.file_io_utils - INFO - executed successfully: INSERT INTO\n",
      "   timestamp2filepath (timestamp_ms, datetime, currency, kind, path)\n",
      "VALUES\n",
      "  (1661975465453, \"20220831205105\", \"BTC\", \"option\", \"xage1083\");\n",
      "xcrytoz.deribit_data.file_io_utils - INFO - executed successfully: INSERT INTO\n",
      "   timestamp2filepath (timestamp_ms, datetime, currency, kind, path)\n",
      "VALUES\n",
      "  (1661975465467, \"20220831205105\", \"BTC\", \"option\", \"xage1084\");\n",
      "xcrytoz.deribit_data.file_io_utils - INFO - executed successfully: INSERT INTO\n",
      "   timestamp2filepath (timestamp_ms, datetime, currency, kind, path)\n",
      "VALUES\n",
      "  (1661975465481, \"20220831205105\", \"BTC\", \"option\", \"xage1085\");\n",
      "xcrytoz.deribit_data.file_io_utils - INFO - executed successfully: INSERT INTO\n",
      "   timestamp2filepath (timestamp_ms, datetime, currency, kind, path)\n",
      "VALUES\n",
      "  (1661975465496, \"20220831205105\", \"BTC\", \"option\", \"xage1086\");\n",
      "xcrytoz.deribit_data.file_io_utils - INFO - executed successfully: INSERT INTO\n",
      "   timestamp2filepath (timestamp_ms, datetime, currency, kind, path)\n",
      "VALUES\n",
      "  (1661975465512, \"20220831205105\", \"BTC\", \"option\", \"xage1087\");\n",
      "xcrytoz.deribit_data.file_io_utils - INFO - executed successfully: INSERT INTO\n",
      "   timestamp2filepath (timestamp_ms, datetime, currency, kind, path)\n",
      "VALUES\n",
      "  (1661975465527, \"20220831205105\", \"BTC\", \"option\", \"xage1088\");\n",
      "xcrytoz.deribit_data.file_io_utils - INFO - executed successfully: INSERT INTO\n",
      "   timestamp2filepath (timestamp_ms, datetime, currency, kind, path)\n",
      "VALUES\n",
      "  (1661975465542, \"20220831205105\", \"BTC\", \"option\", \"xage1089\");\n",
      "xcrytoz.deribit_data.file_io_utils - INFO - executed successfully: INSERT INTO\n",
      "   timestamp2filepath (timestamp_ms, datetime, currency, kind, path)\n",
      "VALUES\n",
      "  (1661975465556, \"20220831205105\", \"BTC\", \"option\", \"xage1090\");\n",
      "xcrytoz.deribit_data.file_io_utils - INFO - executed successfully: INSERT INTO\n",
      "   timestamp2filepath (timestamp_ms, datetime, currency, kind, path)\n",
      "VALUES\n",
      "  (1661975465573, \"20220831205105\", \"BTC\", \"option\", \"xage1091\");\n",
      "xcrytoz.deribit_data.file_io_utils - INFO - executed successfully: INSERT INTO\n",
      "   timestamp2filepath (timestamp_ms, datetime, currency, kind, path)\n",
      "VALUES\n",
      "  (1661975465587, \"20220831205105\", \"BTC\", \"option\", \"xage1092\");\n",
      "xcrytoz.deribit_data.file_io_utils - INFO - executed successfully: INSERT INTO\n",
      "   timestamp2filepath (timestamp_ms, datetime, currency, kind, path)\n",
      "VALUES\n",
      "  (1661975465602, \"20220831205105\", \"BTC\", \"option\", \"xage1093\");\n",
      "xcrytoz.deribit_data.file_io_utils - INFO - executed successfully: INSERT INTO\n",
      "   timestamp2filepath (timestamp_ms, datetime, currency, kind, path)\n",
      "VALUES\n",
      "  (1661975465619, \"20220831205105\", \"BTC\", \"option\", \"xage1094\");\n",
      "xcrytoz.deribit_data.file_io_utils - INFO - executed successfully: INSERT INTO\n",
      "   timestamp2filepath (timestamp_ms, datetime, currency, kind, path)\n",
      "VALUES\n",
      "  (1661975465638, \"20220831205105\", \"BTC\", \"option\", \"xage1095\");\n",
      "xcrytoz.deribit_data.file_io_utils - INFO - executed successfully: INSERT INTO\n",
      "   timestamp2filepath (timestamp_ms, datetime, currency, kind, path)\n",
      "VALUES\n",
      "  (1661975465652, \"20220831205105\", \"BTC\", \"option\", \"xage1096\");\n",
      "xcrytoz.deribit_data.file_io_utils - INFO - executed successfully: INSERT INTO\n",
      "   timestamp2filepath (timestamp_ms, datetime, currency, kind, path)\n",
      "VALUES\n",
      "  (1661975465667, \"20220831205105\", \"BTC\", \"option\", \"xage1097\");\n",
      "xcrytoz.deribit_data.file_io_utils - INFO - executed successfully: INSERT INTO\n",
      "   timestamp2filepath (timestamp_ms, datetime, currency, kind, path)\n",
      "VALUES\n",
      "  (1661975465682, \"20220831205105\", \"BTC\", \"option\", \"xage1098\");\n",
      "xcrytoz.deribit_data.file_io_utils - INFO - executed successfully: INSERT INTO\n",
      "   timestamp2filepath (timestamp_ms, datetime, currency, kind, path)\n",
      "VALUES\n",
      "  (1661975465698, \"20220831205105\", \"BTC\", \"option\", \"xage1099\");\n"
     ]
    }
   ],
   "source": [
    "for n in range(100):\n",
    "    time.sleep(0.01)\n",
    "    ts_ms = Converter.dt2ms_int(datetime.utcnow())\n",
    "    dbm.insert_mapping(ts_ms, 'BTC', 'option', 'xage' + str(n+1000))"
   ]
  },
  {
   "cell_type": "code",
   "execution_count": 16,
   "metadata": {},
   "outputs": [
    {
     "name": "stderr",
     "output_type": "stream",
     "text": [
      "xcrytoz.deribit_data.file_io_utils - INFO - executed successfully: SELECT name FROM sqlite_master WHERE type=\"table\" AND name=\"timestamp2filepath\";\n",
      "xcrytoz.deribit_data.file_io_utils - INFO - executed successfully: SELECT count(*) from timestamp2filepath\n",
      "xcrytoz.deribit_data.file_io_utils - INFO - executed successfully: SELECT min(timestamp_ms), max(timestamp_ms) FROM timestamp2filepath\n",
      "xcrytoz.deribit_data.file_io_utils - INFO - executed successfully: DELETE FROM timestamp2filepath WHERE timestamp_ms >= 1661975464365 and timestamp_ms <= 1661975464409\n"
     ]
    }
   ],
   "source": [
    "dbm.remove(1661975464365, 1661975464409)"
   ]
  },
  {
   "cell_type": "code",
   "execution_count": 7,
   "metadata": {},
   "outputs": [],
   "source": [
    "root_save_folder = r'/home/youngsuklee/data/deribit_test'\n",
    "fzdr = FileZipDaoReader(root_save_folder)"
   ]
  },
  {
   "cell_type": "code",
   "execution_count": 85,
   "metadata": {},
   "outputs": [],
   "source": [
    "import sqlite3\n",
    "from sqlite3 import Error\n",
    "from contextlib import contextmanager"
   ]
  },
  {
   "cell_type": "code",
   "execution_count": 90,
   "metadata": {},
   "outputs": [],
   "source": [
    "xx = 'sss'"
   ]
  },
  {
   "cell_type": "code",
   "execution_count": 91,
   "metadata": {},
   "outputs": [
    {
     "data": {
      "text/plain": [
       "'xxxsssyyyy'"
      ]
     },
     "execution_count": 91,
     "metadata": {},
     "output_type": "execute_result"
    }
   ],
   "source": [
    "(f\"xxx{xx}\" \n",
    "\"yyyy\")"
   ]
  },
  {
   "cell_type": "code",
   "execution_count": 80,
   "metadata": {},
   "outputs": [],
   "source": [
    "connection = sqlite3.connect('my_db.sqlite')"
   ]
  },
  {
   "cell_type": "code",
   "execution_count": 58,
   "metadata": {},
   "outputs": [],
   "source": [
    "def execute_query(connection, query):\n",
    "    cursor = connection.cursor()\n",
    "    try:\n",
    "        cursor.execute(query)\n",
    "        connection.commit()\n",
    "        print(\"Query executed successfully\")\n",
    "    except Error as e:\n",
    "        print(f\"The error '{e}' occurred\")"
   ]
  },
  {
   "cell_type": "code",
   "execution_count": 59,
   "metadata": {},
   "outputs": [],
   "source": [
    "create_file_mapping_table = \"\"\"\n",
    "CREATE TABLE IF NOT EXISTS FileMapping (\n",
    "    id INTEGER PRIMARY KEY AUTOINCREMENT,\n",
    "    timestamp REAL,\n",
    "    currency TEXT,\n",
    "    type TEXT,\n",
    "    path TEXT\n",
    ");\n",
    "\n",
    "CREATE INDEX \"timestamp_index\" ON \"FileMapping\" (\n",
    "\t\"timestamp\"\n",
    ");\n",
    "\"\"\""
   ]
  },
  {
   "cell_type": "code",
   "execution_count": 33,
   "metadata": {},
   "outputs": [
    {
     "data": {
      "text/plain": [
       "-3600.0000081062317"
      ]
     },
     "execution_count": 33,
     "metadata": {},
     "output_type": "execute_result"
    }
   ],
   "source": [
    "datetime.utcnow().timestamp() - datetime.now().timestamp()\n"
   ]
  },
  {
   "cell_type": "code",
   "execution_count": 34,
   "metadata": {},
   "outputs": [
    {
     "data": {
      "text/plain": [
       "-3600.0000083446503"
      ]
     },
     "execution_count": 34,
     "metadata": {},
     "output_type": "execute_result"
    }
   ],
   "source": [
    "datetime.utcnow().timestamp() - time.time()"
   ]
  },
  {
   "cell_type": "code",
   "execution_count": 36,
   "metadata": {},
   "outputs": [
    {
     "data": {
      "text/plain": [
       "-6.4373016357421875e-06"
      ]
     },
     "execution_count": 36,
     "metadata": {},
     "output_type": "execute_result"
    }
   ],
   "source": [
    "datetime.now().timestamp() - time.time()"
   ]
  },
  {
   "cell_type": "code",
   "execution_count": 37,
   "metadata": {},
   "outputs": [
    {
     "data": {
      "text/plain": [
       "datetime.datetime(2022, 8, 31, 16, 32, 11, 107071)"
      ]
     },
     "execution_count": 37,
     "metadata": {},
     "output_type": "execute_result"
    }
   ],
   "source": [
    "datetime.fromtimestamp(time.time())"
   ]
  },
  {
   "cell_type": "code",
   "execution_count": 30,
   "metadata": {},
   "outputs": [
    {
     "data": {
      "text/plain": [
       "datetime.datetime(2022, 8, 31, 15, 28, 57, 317464, tzinfo=datetime.timezone.utc)"
      ]
     },
     "execution_count": 30,
     "metadata": {},
     "output_type": "execute_result"
    }
   ],
   "source": [
    "from datetime import timezone\n",
    "import time\n",
    "datetime.fromtimestamp(time.time(), tz=timezone.utc)"
   ]
  },
  {
   "cell_type": "code",
   "execution_count": 60,
   "metadata": {},
   "outputs": [
    {
     "name": "stdout",
     "output_type": "stream",
     "text": [
      "Query executed successfully\n"
     ]
    }
   ],
   "source": [
    "execute_query(connection, create_file_mapping_table)"
   ]
  },
  {
   "cell_type": "code",
   "execution_count": 68,
   "metadata": {},
   "outputs": [
    {
     "name": "stdout",
     "output_type": "stream",
     "text": [
      "Query executed successfully\n"
     ]
    }
   ],
   "source": [
    "execute_query(connection, \"SELECT count(name) FROM sqlite_master WHERE type='table' AND name='FileMapping';\")"
   ]
  },
  {
   "cell_type": "code",
   "execution_count": 76,
   "metadata": {},
   "outputs": [],
   "source": [
    "add_mapping = \"\"\"\n",
    "INSERT INTO \n",
    "    FileMapping (timestamp, currency, type, path)\n",
    "VALUES\n",
    "    (234353323.4, 'BTC', 'option', 'xxx')\n",
    "\"\"\""
   ]
  },
  {
   "cell_type": "code",
   "execution_count": 70,
   "metadata": {},
   "outputs": [],
   "source": [
    "def execute_read_query(connection, query):\n",
    "    cursor = connection.cursor()\n",
    "    result = None\n",
    "    try:\n",
    "        cursor.execute(query)\n",
    "        result = cursor.fetchall()\n",
    "        return result\n",
    "    except Error as e:\n",
    "        print(f\"The error '{e}' occurred\")"
   ]
  },
  {
   "cell_type": "code",
   "execution_count": 81,
   "metadata": {},
   "outputs": [
    {
     "data": {
      "text/plain": [
       "[(1,)]"
      ]
     },
     "execution_count": 81,
     "metadata": {},
     "output_type": "execute_result"
    }
   ],
   "source": [
    "execute_read_query(connection, \"SELECT count(name) FROM sqlite_master WHERE type='table' AND name='FileMapping';\")"
   ]
  },
  {
   "cell_type": "code",
   "execution_count": 74,
   "metadata": {},
   "outputs": [],
   "source": [
    "res = _"
   ]
  },
  {
   "cell_type": "code",
   "execution_count": 75,
   "metadata": {},
   "outputs": [
    {
     "data": {
      "text/plain": [
       "[(1,)]"
      ]
     },
     "execution_count": 75,
     "metadata": {},
     "output_type": "execute_result"
    }
   ],
   "source": [
    "res"
   ]
  },
  {
   "cell_type": "code",
   "execution_count": 82,
   "metadata": {},
   "outputs": [
    {
     "name": "stdout",
     "output_type": "stream",
     "text": [
      "Query executed successfully\n"
     ]
    }
   ],
   "source": [
    "execute_query(connection, add_mapping)"
   ]
  },
  {
   "cell_type": "code",
   "execution_count": 84,
   "metadata": {},
   "outputs": [
    {
     "data": {
      "text/plain": [
       "[('option',), ('option',)]"
      ]
     },
     "execution_count": 84,
     "metadata": {},
     "output_type": "execute_result"
    }
   ],
   "source": [
    "execute_read_query(connection, \"SELECT type FROM FileMapping ;\")"
   ]
  },
  {
   "cell_type": "code",
   "execution_count": 63,
   "metadata": {},
   "outputs": [
    {
     "data": {
      "text/plain": [
       "1661952255.5216825"
      ]
     },
     "execution_count": 63,
     "metadata": {},
     "output_type": "execute_result"
    }
   ],
   "source": [
    "import time\n",
    "time.time()"
   ]
  },
  {
   "cell_type": "code",
   "execution_count": 64,
   "metadata": {},
   "outputs": [
    {
     "data": {
      "text/plain": [
       "1661952257.6972477"
      ]
     },
     "execution_count": 64,
     "metadata": {},
     "output_type": "execute_result"
    }
   ],
   "source": [
    "time.time()"
   ]
  },
  {
   "cell_type": "code",
   "execution_count": 79,
   "metadata": {},
   "outputs": [],
   "source": [
    "connection.close()"
   ]
  },
  {
   "cell_type": "code",
   "execution_count": null,
   "metadata": {},
   "outputs": [],
   "source": []
  },
  {
   "cell_type": "code",
   "execution_count": null,
   "metadata": {},
   "outputs": [],
   "source": []
  },
  {
   "cell_type": "code",
   "execution_count": 15,
   "metadata": {},
   "outputs": [
    {
     "name": "stderr",
     "output_type": "stream",
     "text": [
      "xcrytoz.deribit_data.file_io_utils - WARNING - no data found for 2022-08-31 13:51:26.721888\n"
     ]
    }
   ],
   "source": [
    "attrib, data = fzdr.read(datetime.now(), 'BTC', 'future')"
   ]
  },
  {
   "cell_type": "code",
   "execution_count": 1,
   "metadata": {},
   "outputs": [
    {
     "data": {
      "text/plain": [
       "['/home/youngsuklee/repos/cdc/drivers',\n",
       " '/home/youngsuklee/miniconda3/envs/cdc/lib/python310.zip',\n",
       " '/home/youngsuklee/miniconda3/envs/cdc/lib/python3.10',\n",
       " '/home/youngsuklee/miniconda3/envs/cdc/lib/python3.10/lib-dynload',\n",
       " '',\n",
       " '/home/youngsuklee/miniconda3/envs/cdc/lib/python3.10/site-packages']"
      ]
     },
     "execution_count": 1,
     "metadata": {},
     "output_type": "execute_result"
    }
   ],
   "source": [
    "import os\n",
    "\n",
    "import sys\n",
    "sys.path"
   ]
  },
  {
   "cell_type": "code",
   "execution_count": 4,
   "metadata": {},
   "outputs": [
    {
     "data": {
      "text/plain": [
       "'/home/youngsuklee/repos/cdc'"
      ]
     },
     "execution_count": 4,
     "metadata": {},
     "output_type": "execute_result"
    }
   ],
   "source": [
    "cwd = os.getcwd()"
   ]
  },
  {
   "cell_type": "code",
   "execution_count": 5,
   "metadata": {},
   "outputs": [
    {
     "data": {
      "text/plain": [
       "'cdc'"
      ]
     },
     "execution_count": 5,
     "metadata": {},
     "output_type": "execute_result"
    }
   ],
   "source": [
    "os.path.basename(os.path.dirname(cwd))"
   ]
  },
  {
   "cell_type": "code",
   "execution_count": 6,
   "metadata": {},
   "outputs": [],
   "source": [
    "import pathlib\n"
   ]
  },
  {
   "cell_type": "code",
   "execution_count": 7,
   "metadata": {},
   "outputs": [
    {
     "data": {
      "text/plain": [
       "PosixPath('/home/youngsuklee/repos')"
      ]
     },
     "execution_count": 7,
     "metadata": {},
     "output_type": "execute_result"
    }
   ],
   "source": [
    "pathlib.Path(cwd).parent.parent"
   ]
  },
  {
   "cell_type": "code",
   "execution_count": 8,
   "metadata": {},
   "outputs": [],
   "source": []
  },
  {
   "cell_type": "code",
   "execution_count": 9,
   "metadata": {},
   "outputs": [
    {
     "data": {
      "text/plain": [
       "['/home/youngsuklee/repos/cdc/drivers',\n",
       " '/home/youngsuklee/repos/cdc',\n",
       " '/home/youngsuklee/miniconda3/envs/cdc/lib/python310.zip',\n",
       " '/home/youngsuklee/miniconda3/envs/cdc/lib/python3.10',\n",
       " '/home/youngsuklee/miniconda3/envs/cdc/lib/python3.10/lib-dynload',\n",
       " '',\n",
       " '/home/youngsuklee/miniconda3/envs/cdc/lib/python3.10/site-packages',\n",
       " '..']"
      ]
     },
     "execution_count": 9,
     "metadata": {},
     "output_type": "execute_result"
    }
   ],
   "source": [
    "sys.path"
   ]
  },
  {
   "cell_type": "code",
   "execution_count": 10,
   "metadata": {},
   "outputs": [
    {
     "data": {
      "text/plain": [
       "'abcde'"
      ]
     },
     "execution_count": 10,
     "metadata": {},
     "output_type": "execute_result"
    }
   ],
   "source": [
    "os.path.commonprefix(['abcdef','abcdee'])"
   ]
  },
  {
   "cell_type": "code",
   "execution_count": 11,
   "metadata": {},
   "outputs": [
    {
     "ename": "ModuleNotFoundError",
     "evalue": "No module named 'da'",
     "output_type": "error",
     "traceback": [
      "\u001b[0;31m---------------------------------------------------------------------------\u001b[0m",
      "\u001b[0;31mModuleNotFoundError\u001b[0m                       Traceback (most recent call last)",
      "\u001b[1;32m/home/youngsuklee/repos/cdc/drivers/testing_playground.ipynb Cell 10\u001b[0m in \u001b[0;36m<cell line: 1>\u001b[0;34m()\u001b[0m\n\u001b[0;32m----> <a href='vscode-notebook-cell:/home/youngsuklee/repos/cdc/drivers/testing_playground.ipynb#X44sZmlsZQ%3D%3D?line=0'>1</a>\u001b[0m \u001b[39mimport\u001b[39;00m \u001b[39mda\u001b[39;00m\n",
      "\u001b[0;31mModuleNotFoundError\u001b[0m: No module named 'da'"
     ]
    }
   ],
   "source": [
    "import da"
   ]
  },
  {
   "cell_type": "code",
   "execution_count": 12,
   "metadata": {},
   "outputs": [],
   "source": [
    "from datetime import datetime"
   ]
  },
  {
   "cell_type": "code",
   "execution_count": 15,
   "metadata": {},
   "outputs": [
    {
     "data": {
      "text/plain": [
       "datetime.timedelta(microseconds=2)"
      ]
     },
     "execution_count": 15,
     "metadata": {},
     "output_type": "execute_result"
    }
   ],
   "source": [
    "abs(datetime.now() - datetime.now())"
   ]
  },
  {
   "cell_type": "code",
   "execution_count": 6,
   "metadata": {},
   "outputs": [],
   "source": [
    "import xcrytoz as xc"
   ]
  },
  {
   "cell_type": "code",
   "execution_count": 7,
   "metadata": {},
   "outputs": [],
   "source": [
    "cst = xc.Col2Str()"
   ]
  },
  {
   "cell_type": "code",
   "execution_count": 76,
   "metadata": {},
   "outputs": [
    {
     "name": "stdout",
     "output_type": "stream",
     "text": [
      "The autoreload extension is already loaded. To reload it, use:\n",
      "  %reload_ext autoreload\n"
     ]
    }
   ],
   "source": [
    "from deribit_downloader import DeribitDownloader_Simple,Col2Str,batch_download\n",
    "\n",
    "\n",
    "%load_ext autoreload\n",
    "%autoreload 2"
   ]
  },
  {
   "cell_type": "code",
   "execution_count": 77,
   "metadata": {},
   "outputs": [],
   "source": [
    "batch_id = 'test'\n",
    "save_folder = './temp_data/test'"
   ]
  },
  {
   "cell_type": "code",
   "execution_count": 78,
   "metadata": {},
   "outputs": [
    {
     "name": "stdout",
     "output_type": "stream",
     "text": [
      "downloading BTC future\n",
      "writing to json ./temp_data/test/test_BTC_future.zip\n",
      "downloading BTC option\n",
      "writing to json ./temp_data/test/test_BTC_option.zip\n",
      "downloading ETH future\n",
      "writing to json ./temp_data/test/test_ETH_future.zip\n",
      "downloading ETH option\n",
      "writing to json ./temp_data/test/test_ETH_option.zip\n",
      "downloading SOL future\n",
      "writing to json ./temp_data/test/test_SOL_future.zip\n",
      "downloading SOL option\n",
      "writing to json ./temp_data/test/test_SOL_option.zip\n",
      "done\n"
     ]
    }
   ],
   "source": [
    "batch_download(batch_id, save_folder)"
   ]
  },
  {
   "cell_type": "code",
   "execution_count": 79,
   "metadata": {},
   "outputs": [],
   "source": [
    "from pathlib import Path\n",
    "home = str(Path.home())"
   ]
  },
  {
   "cell_type": "code",
   "execution_count": 80,
   "metadata": {},
   "outputs": [
    {
     "data": {
      "text/plain": [
       "'/home/youngsuklee'"
      ]
     },
     "execution_count": 80,
     "metadata": {},
     "output_type": "execute_result"
    }
   ],
   "source": [
    "home"
   ]
  },
  {
   "cell_type": "code",
   "execution_count": 19,
   "metadata": {},
   "outputs": [],
   "source": [
    "_cst = Col2Str()"
   ]
  },
  {
   "cell_type": "code",
   "execution_count": 24,
   "metadata": {},
   "outputs": [],
   "source": [
    "dds = DeribitDownloader_Simple()"
   ]
  },
  {
   "cell_type": "code",
   "execution_count": 39,
   "metadata": {},
   "outputs": [],
   "source": [
    "dn = dds.download_tickers('BTC', 'option')"
   ]
  },
  {
   "cell_type": "code",
   "execution_count": 40,
   "metadata": {},
   "outputs": [],
   "source": [
    "import zipfile"
   ]
  },
  {
   "cell_type": "code",
   "execution_count": 41,
   "metadata": {},
   "outputs": [],
   "source": [
    "import pickle"
   ]
  },
  {
   "cell_type": "code",
   "execution_count": 42,
   "metadata": {},
   "outputs": [],
   "source": [
    "with open('p.pkl', 'wb') as pf:\n",
    "    pickle.dump(dn, pf, protocol=pickle.HIGHEST_PROTOCOL)"
   ]
  },
  {
   "cell_type": "code",
   "execution_count": 43,
   "metadata": {},
   "outputs": [],
   "source": [
    "import json\n",
    "with open('d.json', 'w') as jf:\n",
    "    jf.write(json.dumps(dn))"
   ]
  },
  {
   "cell_type": "code",
   "execution_count": 44,
   "metadata": {},
   "outputs": [],
   "source": [
    "with zipfile.ZipFile('zip.zip', mode='w', compression=zipfile.ZIP_DEFLATED, compresslevel=9) as zip_file: \n",
    "    dumped_json: str = json.dumps(dn, ensure_ascii=False, indent=4)\n",
    "    zip_file.writestr('data.json', data=dumped_json)\n",
    "    zip_file.testzip()"
   ]
  },
  {
   "cell_type": "code",
   "execution_count": 57,
   "metadata": {},
   "outputs": [],
   "source": [
    "with zipfile.ZipFile('zip.zip', 'r') as myzip:\n",
    "\n",
    "    data = json.loads(myzip.read('data.json'))"
   ]
  },
  {
   "cell_type": "code",
   "execution_count": 67,
   "metadata": {},
   "outputs": [],
   "source": [
    "from file_io_utils import *"
   ]
  },
  {
   "cell_type": "code",
   "execution_count": 68,
   "metadata": {},
   "outputs": [],
   "source": [
    "aaa, ddd = read_zipped_json(r'./zipattr.zip')"
   ]
  },
  {
   "cell_type": "code",
   "execution_count": 71,
   "metadata": {},
   "outputs": [
    {
     "data": {
      "text/plain": [
       "dict"
      ]
     },
     "execution_count": 71,
     "metadata": {},
     "output_type": "execute_result"
    }
   ],
   "source": [
    "type(ddd)"
   ]
  },
  {
   "cell_type": "code",
   "execution_count": 72,
   "metadata": {},
   "outputs": [
    {
     "name": "stderr",
     "output_type": "stream",
     "text": [
      "[autoreload of deribit_downloader failed: Traceback (most recent call last):\n",
      "  File \"/home/youngsuklee/miniconda3/envs/cdc/lib/python3.10/site-packages/IPython/extensions/autoreload.py\", line 257, in check\n",
      "    superreload(m, reload, self.old_objects)\n",
      "  File \"/home/youngsuklee/miniconda3/envs/cdc/lib/python3.10/site-packages/IPython/extensions/autoreload.py\", line 455, in superreload\n",
      "    module = reload(module)\n",
      "  File \"/home/youngsuklee/miniconda3/envs/cdc/lib/python3.10/importlib/__init__.py\", line 169, in reload\n",
      "    _bootstrap._exec(spec, module)\n",
      "  File \"<frozen importlib._bootstrap>\", line 619, in _exec\n",
      "  File \"<frozen importlib._bootstrap_external>\", line 879, in exec_module\n",
      "  File \"<frozen importlib._bootstrap_external>\", line 1017, in get_code\n",
      "  File \"<frozen importlib._bootstrap_external>\", line 947, in source_to_code\n",
      "  File \"<frozen importlib._bootstrap>\", line 241, in _call_with_frames_removed\n",
      "  File \"/home/youngsuklee/repos/cdc/deribit_downloader.py\", line 129\n",
      "    for currency, kind in itertools.product(currencies, kinds)\n",
      "                                                              ^\n",
      "SyntaxError: expected ':'\n",
      "]\n"
     ]
    }
   ],
   "source": [
    "import itertools"
   ]
  },
  {
   "cell_type": "code",
   "execution_count": 74,
   "metadata": {},
   "outputs": [
    {
     "name": "stdout",
     "output_type": "stream",
     "text": [
      "x1 y1\n",
      "x1 y2\n",
      "x2 y1\n",
      "x2 y2\n"
     ]
    }
   ],
   "source": [
    "for x, y in itertools.product(['x1','x2'], ['y1', 'y2']):\n",
    "    print(x, y)"
   ]
  },
  {
   "cell_type": "code",
   "execution_count": 75,
   "metadata": {},
   "outputs": [],
   "source": [
    "import time"
   ]
  },
  {
   "cell_type": "code",
   "execution_count": null,
   "metadata": {},
   "outputs": [],
   "source": []
  }
 ],
 "metadata": {
  "interpreter": {
   "hash": "ffc4cdfc2f9df9829908f0bb509de22c10772a97bc132a907af58096083e6834"
  },
  "kernelspec": {
   "display_name": "Python 3.10.0 ('cdc')",
   "language": "python",
   "name": "python3"
  },
  "language_info": {
   "codemirror_mode": {
    "name": "ipython",
    "version": 3
   },
   "file_extension": ".py",
   "mimetype": "text/x-python",
   "name": "python",
   "nbconvert_exporter": "python",
   "pygments_lexer": "ipython3",
   "version": "3.10.0"
  },
  "orig_nbformat": 4
 },
 "nbformat": 4,
 "nbformat_minor": 2
}
